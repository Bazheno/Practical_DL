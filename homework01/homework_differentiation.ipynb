{
  "nbformat": 4,
  "nbformat_minor": 0,
  "metadata": {
    "kernelspec": {
      "display_name": "Python 2",
      "language": "python",
      "name": "python2"
    },
    "language_info": {
      "codemirror_mode": {
        "name": "ipython",
        "version": 2
      },
      "file_extension": ".py",
      "mimetype": "text/x-python",
      "name": "python",
      "nbconvert_exporter": "python",
      "pygments_lexer": "ipython2",
      "version": "2.7.12"
    },
    "colab": {
      "name": "homework_differentiation.ipynb",
      "provenance": []
    }
  },
  "cells": [
    {
      "cell_type": "markdown",
      "metadata": {
        "id": "R308Q42Etoca",
        "colab_type": "text"
      },
      "source": [
        "# Homework 1: Differentiation"
      ]
    },
    {
      "cell_type": "markdown",
      "metadata": {
        "id": "m8VIh_iDtoce",
        "colab_type": "text"
      },
      "source": [
        "Since it easy to google every task please please please try to undestand what's going on. The \"just answer\" thing will be not counted, make sure to present derivation of your solution. It is absolutely OK if you found an answer on web then just exercise in $\\LaTeX$ copying it into here."
      ]
    },
    {
      "cell_type": "markdown",
      "metadata": {
        "id": "ocbBPXq8toch",
        "colab_type": "text"
      },
      "source": [
        "Useful links: \n",
        "[1](http://www.machinelearning.ru/wiki/images/2/2a/Matrix-Gauss.pdf)\n",
        "[2](http://www.atmos.washington.edu/~dennis/MatrixCalculus.pdf)\n",
        "[3](http://cal.cs.illinois.edu/~johannes/research/matrix%20calculus.pdf)\n",
        "[4](http://research.microsoft.com/en-us/um/people/cmbishop/prml/index.htm)"
      ]
    },
    {
      "cell_type": "markdown",
      "metadata": {
        "id": "-PpQc43Vtocj",
        "colab_type": "text"
      },
      "source": [
        "## ex. 1"
      ]
    },
    {
      "cell_type": "markdown",
      "metadata": {
        "id": "uNBbxcTYtocl",
        "colab_type": "text"
      },
      "source": [
        "$$  \n",
        "y = x^Tx,  \\quad x \\in \\mathbb{R}^N \n",
        "$$"
      ]
    },
    {
      "cell_type": "markdown",
      "metadata": {
        "id": "9vHwr8yutocn",
        "colab_type": "text"
      },
      "source": [
        "$$\n",
        "\\frac{dy}{dx} =  2 x \n",
        "$$ \n",
        "\n",
        "Потому что\n",
        "\n",
        "$$\n",
        "\\left(\\frac{dy}{dx}\\right)_j = \\frac{\\partial x^i x_i}{\\partial x_j} = \\delta^i_j x_i + x^i \\delta_{i j} = 2 x_j\n",
        "$$"
      ]
    },
    {
      "cell_type": "markdown",
      "metadata": {
        "id": "GvmaKwvptoc2",
        "colab_type": "text"
      },
      "source": [
        "## ex. 2"
      ]
    },
    {
      "cell_type": "markdown",
      "metadata": {
        "id": "rrrhqioxtoc4",
        "colab_type": "text"
      },
      "source": [
        "$$ y = tr(AB) \\quad A,B \\in \\mathbb{R}^{N \\times N} $$ "
      ]
    },
    {
      "cell_type": "markdown",
      "metadata": {
        "id": "7FWY4ZT9toc7",
        "colab_type": "text"
      },
      "source": [
        "$$\n",
        "\\frac{dy}{dA} = B^T\n",
        "$$\n",
        "\n",
        "Потому что\n",
        "\n",
        "$$\n",
        "\\left( \\frac{dy}{dA} \\right)^k_l = \\frac{d A^i_j B^j_i}{dA^k_l} = \\delta^i_k \\delta^l_j B^j_i = B^l_k = \\left( B^T \\right)^k_l \n",
        "$$\n",
        "\n",
        "где верхний индекс отвечает за строки, а нижний за столбцы."
      ]
    },
    {
      "cell_type": "code",
      "metadata": {
        "id": "MaFvEHrVtoc-",
        "colab_type": "code",
        "colab": {}
      },
      "source": [
        ""
      ],
      "execution_count": null,
      "outputs": []
    },
    {
      "cell_type": "markdown",
      "metadata": {
        "id": "ozmLJx8FtodI",
        "colab_type": "text"
      },
      "source": [
        "## ex. 3"
      ]
    },
    {
      "cell_type": "markdown",
      "metadata": {
        "id": "yUwNSuk8todK",
        "colab_type": "text"
      },
      "source": [
        "$$  \n",
        "y = x^TAc , \\quad A\\in \\mathbb{R}^{N \\times N}, x\\in \\mathbb{R}^{N}, c\\in \\mathbb{R}^{N} \n",
        "$$"
      ]
    },
    {
      "cell_type": "markdown",
      "metadata": {
        "id": "MjelU_GjtodN",
        "colab_type": "text"
      },
      "source": [
        "$$\n",
        "\\frac{dy}{dx} = A c\n",
        "$$\n",
        "\n",
        "Потому что\n",
        "\n",
        "$$\n",
        "\\left( \\frac{dy}{dx} \\right)_i = \\frac{d x^j A^k_j c_k}{d x_i} = A^k_j c_k \\delta^j_i = A^k_i c_k \n",
        "$$"
      ]
    },
    {
      "cell_type": "markdown",
      "metadata": {
        "id": "DjANTVrLtodO",
        "colab_type": "text"
      },
      "source": [
        "$$\n",
        "\\frac{dy}{dA} = x c^T\n",
        "$$\n",
        "\n",
        "Потому что\n",
        "\n",
        "$$\n",
        "\\left( \\frac{dy}{dx} \\right)^k_l = \\frac{d x^j A^m_j c_m}{d A^k_l} = x^j c_m \\delta^m_k \\delta^l_j = c_k  x^l = \\left( x c^T \\right)^k_l\n",
        "$$\n"
      ]
    },
    {
      "cell_type": "markdown",
      "metadata": {
        "id": "YgM4oIQZtodQ",
        "colab_type": "text"
      },
      "source": [
        "Hint for the latter (one of the ways): use *ex. 2* result and the fact \n",
        "$$\n",
        "tr(ABC) = tr (CAB)\n",
        "$$"
      ]
    },
    {
      "cell_type": "code",
      "metadata": {
        "id": "vWyI2v5ptodS",
        "colab_type": "code",
        "colab": {}
      },
      "source": [
        ""
      ],
      "execution_count": null,
      "outputs": []
    },
    {
      "cell_type": "markdown",
      "metadata": {
        "id": "MP7BMMZ_tode",
        "colab_type": "text"
      },
      "source": [
        "## ex. 4"
      ]
    },
    {
      "cell_type": "markdown",
      "metadata": {
        "id": "smW9W7tEtodf",
        "colab_type": "text"
      },
      "source": [
        "Classic matrix factorization example. Given matrix $X$ you need to find $A$, $S$ to approximate $X$. This can be done by simple gradient descent iteratively alternating $A$ and $S$ updates.\n",
        "$$\n",
        "J = || X - AS ||_F^2  , \\quad A\\in \\mathbb{R}^{N \\times R} , \\quad S\\in \\mathbb{R}^{R \\times M}\n",
        "$$\n",
        "$$\n",
        "\\frac{dJ}{dS} = ? \n",
        "$$ "
      ]
    },
    {
      "cell_type": "markdown",
      "metadata": {
        "id": "92x2EqEttodh",
        "colab_type": "text"
      },
      "source": [
        "### First approach\n",
        "Using ex.2 and the fact:\n",
        "$$\n",
        "|| X ||_F^2 = tr(XX^T) \n",
        "$$ \n",
        "it is easy to derive gradients (you can find it in one of the refs). "
      ]
    },
    {
      "cell_type": "markdown",
      "metadata": {
        "collapsed": true,
        "id": "B1XVTx9btodj",
        "colab_type": "text"
      },
      "source": [
        "### Second approach\n",
        "You can use *slightly different techniques* if they suits you. Take a look at this derivation:\n",
        "<img src=\"https://github.com/Bazheno/Practical_DL/blob/spring20/homework01/grad.png?raw=1\">\n",
        "(excerpt from [Handbook of blind source separation, Jutten, page 517](https://books.google.ru/books?id=PTbj03bYH6kC&printsec=frontcover&dq=Handbook+of+Blind+Source+Separation&hl=en&sa=X&ved=0ahUKEwi-q_apiJDLAhULvXIKHVXJDWcQ6AEIHDAA#v=onepage&q=Handbook%20of%20Blind%20Source%20Separation&f=false), open for better picture)."
      ]
    },
    {
      "cell_type": "markdown",
      "metadata": {
        "collapsed": true,
        "id": "K6yXmA0btodl",
        "colab_type": "text"
      },
      "source": [
        "### Third approach\n",
        "And finally we can use chain rule! **YOUR TURN** to do it.\n",
        "let $ F = AS $ \n",
        "\n",
        "**Find**\n",
        "$$\n",
        "\\frac{dJ}{dF} =  \\frac{d (tr((X-F)(X-F)^T)}{dF} = \\frac{d(tr(XX^T) - tr(FX^T) - tr(XF^T) + tr(FF^T))}{dF} = -2 \\frac{d(tr(FX^T))}{dF} + \\frac{d (tr(FF^T))}{dF} = 2F - 2X  \n",
        "$$ \n",
        "and \n",
        "$$\n",
        "\\frac{dF}{dS} = A\n",
        "$$ \n",
        "(the shape should be $ NM \\times RM )$.\n",
        "\n",
        "Now it is easy do get desired gradients:\n",
        "$$\n",
        "\\frac{dJ}{dS} =  \n",
        "$$ "
      ]
    },
    {
      "cell_type": "code",
      "metadata": {
        "id": "db7aKAtntodm",
        "colab_type": "code",
        "colab": {}
      },
      "source": [
        ""
      ],
      "execution_count": null,
      "outputs": []
    }
  ]
}